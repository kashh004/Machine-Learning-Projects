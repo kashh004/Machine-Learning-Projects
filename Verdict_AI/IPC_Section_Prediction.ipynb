{
 "cells": [
  {
   "cell_type": "code",
   "execution_count": 1,
   "id": "d1c70703",
   "metadata": {},
   "outputs": [
    {
     "data": {
      "text/html": [
       "<div>\n",
       "<style scoped>\n",
       "    .dataframe tbody tr th:only-of-type {\n",
       "        vertical-align: middle;\n",
       "    }\n",
       "\n",
       "    .dataframe tbody tr th {\n",
       "        vertical-align: top;\n",
       "    }\n",
       "\n",
       "    .dataframe thead th {\n",
       "        text-align: right;\n",
       "    }\n",
       "</style>\n",
       "<table border=\"1\" class=\"dataframe\">\n",
       "  <thead>\n",
       "    <tr style=\"text-align: right;\">\n",
       "      <th></th>\n",
       "      <th>Offense</th>\n",
       "      <th>Description</th>\n",
       "    </tr>\n",
       "  </thead>\n",
       "  <tbody>\n",
       "    <tr>\n",
       "      <th>0</th>\n",
       "      <td>wearing the dress or carrying any token used b...</td>\n",
       "      <td>according to section  of indian penal code who...</td>\n",
       "    </tr>\n",
       "    <tr>\n",
       "      <th>1</th>\n",
       "      <td>receiving property taken by war or depredation...</td>\n",
       "      <td>according to section  of indian penal code who...</td>\n",
       "    </tr>\n",
       "    <tr>\n",
       "      <th>2</th>\n",
       "      <td>public servant voluntarily allowing prisoner o...</td>\n",
       "      <td>according to section  of indian penal code who...</td>\n",
       "    </tr>\n",
       "    <tr>\n",
       "      <th>3</th>\n",
       "      <td>public servant negligently suffering prisoner ...</td>\n",
       "      <td>according to section  of indian penal code who...</td>\n",
       "    </tr>\n",
       "    <tr>\n",
       "      <th>4</th>\n",
       "      <td>aiding escape of rescuing or harbouring such p...</td>\n",
       "      <td>according to section  of indian penal code who...</td>\n",
       "    </tr>\n",
       "  </tbody>\n",
       "</table>\n",
       "</div>"
      ],
      "text/plain": [
       "                                             Offense  \\\n",
       "0  wearing the dress or carrying any token used b...   \n",
       "1  receiving property taken by war or depredation...   \n",
       "2  public servant voluntarily allowing prisoner o...   \n",
       "3  public servant negligently suffering prisoner ...   \n",
       "4  aiding escape of rescuing or harbouring such p...   \n",
       "\n",
       "                                         Description  \n",
       "0  according to section  of indian penal code who...  \n",
       "1  according to section  of indian penal code who...  \n",
       "2  according to section  of indian penal code who...  \n",
       "3  according to section  of indian penal code who...  \n",
       "4  according to section  of indian penal code who...  "
      ]
     },
     "execution_count": 1,
     "metadata": {},
     "output_type": "execute_result"
    }
   ],
   "source": [
    "import pandas as pd\n",
    "import re\n",
    "\n",
    "# Load the dataset\n",
    "file_path = '/Users/akashngowda/Desktop/5th sem mini pro/ipc_sections 2.csv'  # Update the path to your CSV file\n",
    "df = pd.read_csv(file_path)\n",
    "\n",
    "# Remove unnecessary columns\n",
    "df_cleaned = df[['Offense', 'Description']].copy()\n",
    "\n",
    "# Handle missing values by filling them with empty strings\n",
    "df_cleaned['Offense'] = df_cleaned['Offense'].fillna('').astype(str)\n",
    "df_cleaned['Description'] = df_cleaned['Description'].fillna('').astype(str)\n",
    "\n",
    "# Remove the redundant \"Description of IPC Section ...\" text from the Description column\n",
    "df_cleaned['Description'] = df_cleaned['Description'].apply(lambda x: re.sub(r'Description of IPC Section.*?\\n', '', x))\n",
    "\n",
    "# Lowercase and remove special characters from the 'Offense' and 'Description' columns\n",
    "df_cleaned['Offense'] = df_cleaned['Offense'].str.lower().apply(lambda x: re.sub(r'[^a-z\\s]', '', x))\n",
    "df_cleaned['Description'] = df_cleaned['Description'].str.lower().apply(lambda x: re.sub(r'[^a-z\\s]', '', x))\n",
    "\n",
    "# Display the cleaned data\n",
    "df_cleaned.head()\n"
   ]
  },
  {
   "cell_type": "code",
   "execution_count": 20,
   "id": "736a01f2",
   "metadata": {},
   "outputs": [],
   "source": [
    "import numpy as np\n",
    "import pandas as pd\n",
    "from sklearn.feature_extraction.text import TfidfVectorizer\n",
    "from sklearn.model_selection import train_test_split\n",
    "from sklearn.preprocessing import LabelEncoder\n",
    "from sklearn.linear_model import LogisticRegression\n",
    "from sklearn.metrics import accuracy_score\n",
    "\n",
    "# Load the dataset\n",
    "file_path = '/Users/akashngowda/Desktop/5th sem mini pro/ipc_sections 2.csv'\n",
    "df = pd.read_csv(file_path)\n",
    "\n",
    "df = df[['Offense', 'Description']]\n",
    "\n",
    "# Features and target variables\n",
    "X = df['Offense'].astype(str).values  # Offense text (features)\n",
    "y = df['Description'].astype(str).values  # Description (target)\n",
    "\n",
    "# Encode the target labels (Description)\n",
    "label_encoder = LabelEncoder()\n",
    "y_encoded = label_encoder.fit_transform(y)\n",
    "\n",
    "# Split the data into training and testing sets\n",
    "X_train, X_test, y_train, y_test = train_test_split(X, y_encoded, test_size=0.2, random_state=42)\n",
    "\n",
    "# Use TF-IDF Vectorizer to convert text into numerical features\n",
    "vectorizer = TfidfVectorizer()\n",
    "X_train_tfidf = vectorizer.fit_transform(X_train)\n",
    "X_test_tfidf = vectorizer.transform(X_test)\n",
    "\n",
    "# Train a classifier (e.g., Logistic Regression)\n",
    "model = LogisticRegression()\n",
    "model.fit(X_train_tfidf, y_train)\n",
    "\n",
    "# Function to predict description based on offense text\n",
    "def predict_description(offense_text):\n",
    "    offense_tfidf = vectorizer.transform([offense_text])  # Convert input text to tf-idf format\n",
    "    predicted_label = model.predict(offense_tfidf)\n",
    "    description = label_encoder.inverse_transform(predicted_label)\n",
    "    return description[0]"
   ]
  },
  {
   "cell_type": "code",
   "execution_count": 3,
   "id": "15706e4b",
   "metadata": {},
   "outputs": [
    {
     "name": "stdout",
     "output_type": "stream",
     "text": [
      "Enter the offense for prediction: theft\n",
      "Predicted IPC_Section: Description of IPC Section 379\n",
      "According to section 379 of Indian penal code, Whoever commits theft shall be punished with imprisonment of either description for a term which may extend to three years, or with fine, or with both.\n",
      "\n",
      "\n",
      "IPC 379 in Simple Words\n",
      "In the Indian Penal Code, anyone who commits theft can be punished with imprisonment for up to three years, a fine, or both.\n"
     ]
    }
   ],
   "source": [
    "# Get the initial input from the user\n",
    "offense_input = input(\"Enter the offense for prediction: \")  \n",
    "\n",
    "# Make the prediction using the model\n",
    "predicted_description = predict_description(offense_input)\n",
    "\n",
    "# Display the prediction\n",
    "print(f\"Predicted IPC_Section: {predicted_description}\")\n"
   ]
  },
  {
   "cell_type": "code",
   "execution_count": 4,
   "id": "34dd4e62",
   "metadata": {},
   "outputs": [
    {
     "name": "stdout",
     "output_type": "stream",
     "text": [
      "Enter the offense for prediction: murder\n",
      "Predicted IPC_Section: Description of IPC Section 302\n",
      "According to section 302 of Indian penal code, Whoever commits murder shall be punished with death, or imprisonment for life, and shall also be liable to fine.\n",
      "\n",
      "\n",
      "IPC 302 in Simple Words\n",
      "Section 302 of the Indian Penal Code states that anyone who commits murder can be punished with the death penalty or life imprisonment, and may also be fined.\n"
     ]
    }
   ],
   "source": [
    "# Get the initial input from the user\n",
    "offense_input = input(\"Enter the offense for prediction: \")  \n",
    "\n",
    "# Make the prediction using the model\n",
    "predicted_description = predict_description(offense_input)\n",
    "\n",
    "# Display the prediction\n",
    "print(f\"Predicted IPC_Section: {predicted_description}\")\n"
   ]
  }
 ],
 "metadata": {
  "kernelspec": {
   "display_name": "Python 3 (ipykernel)",
   "language": "python",
   "name": "python3"
  },
  "language_info": {
   "codemirror_mode": {
    "name": "ipython",
    "version": 3
   },
   "file_extension": ".py",
   "mimetype": "text/x-python",
   "name": "python",
   "nbconvert_exporter": "python",
   "pygments_lexer": "ipython3",
   "version": "3.11.7"
  }
 },
 "nbformat": 4,
 "nbformat_minor": 5
}
