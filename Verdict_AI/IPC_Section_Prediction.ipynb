{
 "cells": [
  {
   "cell_type": "code",
   "execution_count": 2,
   "id": "736a01f2",
   "metadata": {},
   "outputs": [],
   "source": [
    "import numpy as np\n",
    "import pandas as pd\n",
    "from sklearn.feature_extraction.text import TfidfVectorizer\n",
    "from sklearn.model_selection import train_test_split\n",
    "from sklearn.preprocessing import LabelEncoder\n",
    "from sklearn.linear_model import LogisticRegression\n",
    "from sklearn.metrics import accuracy_score\n",
    "\n",
    "# Load the dataset\n",
    "file_path = '/Users/akashngowda/Desktop/5th sem mini pro/ipc_sections 2.csv'\n",
    "df = pd.read_csv(file_path)\n",
    "\n",
    "df = df[['Offense', 'Description']]\n",
    "\n",
    "# Features and target variables\n",
    "X = df['Offense'].astype(str).values  # Offense text (features)\n",
    "y = df['Description'].astype(str).values  # Description (target)\n",
    "\n",
    "# Encode the target labels (Description)\n",
    "label_encoder = LabelEncoder()\n",
    "y_encoded = label_encoder.fit_transform(y)\n",
    "\n",
    "# Split the data into training and testing sets\n",
    "X_train, X_test, y_train, y_test = train_test_split(X, y_encoded, test_size=0.2, random_state=42)\n",
    "\n",
    "# Use TF-IDF Vectorizer to convert text into numerical features\n",
    "vectorizer = TfidfVectorizer()\n",
    "X_train_tfidf = vectorizer.fit_transform(X_train)\n",
    "X_test_tfidf = vectorizer.transform(X_test)\n",
    "\n",
    "# Train a classifier (e.g., Logistic Regression)\n",
    "model = LogisticRegression()\n",
    "model.fit(X_train_tfidf, y_train)\n",
    "\n",
    "# Function to predict description based on offense text\n",
    "def predict_description(offense_text):\n",
    "    offense_tfidf = vectorizer.transform([offense_text])  # Convert input text to tf-idf format\n",
    "    predicted_label = model.predict(offense_tfidf)\n",
    "    description = label_encoder.inverse_transform(predicted_label)\n",
    "    return description[0]"
   ]
  },
  {
   "cell_type": "code",
   "execution_count": 3,
   "id": "15706e4b",
   "metadata": {},
   "outputs": [
    {
     "name": "stdout",
     "output_type": "stream",
     "text": [
      "Enter the offense for prediction: bidding\n",
      "Predicted IPC_Section: Description of IPC Section 185\n",
      "According to section 185 of Indian penal code, Whoever, at any sale of property held by the lawful authority of a public servant, as such, purchases or bids for any property on account of any person, whether himself or any other, whom he knows to be under a legal incapacity to purchase that property at that sale, or bids for such property not intending to perform the obligations under which he lays himself by such bidding, shall be punished with imprisonment of either description for a term which may extend to one month, or with fine which may extend to two hundred rupees, or with both.\n",
      "\n",
      "\n",
      "IPC 185 in Simple Words\n",
      "In simple words, Section 185 of the Indian Penal Code states that if someone purchases or bids for property at a public sale on behalf of a person who is legally not allowed to do so or bids without intending to fulfill the obligations, they may be punished with imprisonment, fine, or both, for a maximum of one month.\n",
      "Test Accuracy: 0.0112\n"
     ]
    }
   ],
   "source": [
    "# Get the initial input from the user\n",
    "offense_input = input(\"Enter the offense for prediction: \")  \n",
    "\n",
    "# Make the prediction using the model\n",
    "predicted_description = predict_description(offense_input)\n",
    "\n",
    "# Display the prediction\n",
    "print(f\"Predicted IPC_Section: {predicted_description}\")\n",
    "\n",
    "# Evaluate the model\n",
    "y_pred = model.predict(X_test_tfidf)\n",
    "accuracy = accuracy_score(y_test, y_pred)\n",
    "print(f\"Test Accuracy: {accuracy:.4f}\")"
   ]
  },
  {
   "cell_type": "code",
   "execution_count": 4,
   "id": "34dd4e62",
   "metadata": {},
   "outputs": [
    {
     "name": "stdout",
     "output_type": "stream",
     "text": [
      "Enter the offense for prediction: theft\n",
      "Predicted IPC_Section: Description of IPC Section 379\n",
      "According to section 379 of Indian penal code, Whoever commits theft shall be punished with imprisonment of either description for a term which may extend to three years, or with fine, or with both.\n",
      "\n",
      "\n",
      "IPC 379 in Simple Words\n",
      "In the Indian Penal Code, anyone who commits theft can be punished with imprisonment for up to three years, a fine, or both.\n",
      "Test Accuracy: 0.0112\n"
     ]
    }
   ],
   "source": [
    "# Get the initial input from the user\n",
    "offense_input = input(\"Enter the offense for prediction: \")  \n",
    "\n",
    "# Make the prediction using the model\n",
    "predicted_description = predict_description(offense_input)\n",
    "\n",
    "# Display the prediction\n",
    "print(f\"Predicted IPC_Section: {predicted_description}\")\n",
    "\n",
    "# Evaluate the model\n",
    "y_pred = model.predict(X_test_tfidf)\n",
    "accuracy = accuracy_score(y_test, y_pred)\n",
    "print(f\"Test Accuracy: {accuracy:.4f}\")"
   ]
  },
  {
   "cell_type": "code",
   "execution_count": null,
   "id": "a476b8ae",
   "metadata": {},
   "outputs": [],
   "source": []
  }
 ],
 "metadata": {
  "kernelspec": {
   "display_name": "Python 3 (ipykernel)",
   "language": "python",
   "name": "python3"
  },
  "language_info": {
   "codemirror_mode": {
    "name": "ipython",
    "version": 3
   },
   "file_extension": ".py",
   "mimetype": "text/x-python",
   "name": "python",
   "nbconvert_exporter": "python",
   "pygments_lexer": "ipython3",
   "version": "3.11.7"
  }
 },
 "nbformat": 4,
 "nbformat_minor": 5
}
